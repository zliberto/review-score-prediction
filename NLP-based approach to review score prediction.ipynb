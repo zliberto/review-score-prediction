{
 "cells": [
  {
   "cell_type": "markdown",
   "metadata": {},
   "source": [
    "### NLP-based approach to review score prediction\n",
    "##### Zuzanna Liberto"
   ]
  },
  {
   "cell_type": "markdown",
   "metadata": {},
   "source": [
    "<br> The dataset used in this project was downloaded from Kaggle <br> https://www.kaggle.com/jiashenliu/515k-hotel-reviews-data-in-europe <br> <br> It contains 515,000 customer reviews and scoring of 1493 luxury hotels across Europe."
   ]
  },
  {
   "cell_type": "code",
   "execution_count": 342,
   "metadata": {},
   "outputs": [],
   "source": [
    "# data manipulation\n",
    "import pandas as pd\n",
    "pd.options.mode.chained_assignment = None\n",
    "import numpy as np\n",
    "# data visualization\n",
    "import seaborn as sns\n",
    "import matplotlib.pyplot as plt\n",
    "import folium\n",
    "from folium.plugins import HeatMap\n",
    "import wordcloud\n",
    "# text manipulation\n",
    "import re\n",
    "import string\n",
    "import random\n",
    "import nltk\n",
    "from nltk.corpus import stopwords\n",
    "from nltk.corpus import wordnet\n",
    "from nltk.stem import WordNetLemmatizer\n",
    "from nltk import pos_tag\n",
    "# machine learning and metrics\n",
    "from sklearn.model_selection import train_test_split\n",
    "from sklearn.metrics import mean_squared_error as MSE \n",
    "from sklearn.metrics import mean_absolute_error\n",
    "import xgboost as xgb\n",
    "from sklearn.feature_extraction.text import CountVectorizer\n",
    "from sklearn.decomposition import LatentDirichletAllocation\n",
    "# misc\n",
    "import time"
   ]
  },
  {
   "cell_type": "markdown",
   "metadata": {},
   "source": [
    "### 1. Data Prep and EDA"
   ]
  },
  {
   "cell_type": "code",
   "execution_count": 2,
   "metadata": {},
   "outputs": [
    {
     "data": {
      "text/html": [
       "<div>\n",
       "<style scoped>\n",
       "    .dataframe tbody tr th:only-of-type {\n",
       "        vertical-align: middle;\n",
       "    }\n",
       "\n",
       "    .dataframe tbody tr th {\n",
       "        vertical-align: top;\n",
       "    }\n",
       "\n",
       "    .dataframe thead th {\n",
       "        text-align: right;\n",
       "    }\n",
       "</style>\n",
       "<table border=\"1\" class=\"dataframe\">\n",
       "  <thead>\n",
       "    <tr style=\"text-align: right;\">\n",
       "      <th></th>\n",
       "      <th>Hotel_Name</th>\n",
       "      <th>Average_Score</th>\n",
       "      <th>Reviewer_Nationality</th>\n",
       "      <th>Reviewer_Score</th>\n",
       "      <th>Negative_Review</th>\n",
       "      <th>Review_Total_Negative_Word_Counts</th>\n",
       "      <th>Positive_Review</th>\n",
       "      <th>Review_Total_Positive_Word_Counts</th>\n",
       "    </tr>\n",
       "  </thead>\n",
       "  <tbody>\n",
       "    <tr>\n",
       "      <th>0</th>\n",
       "      <td>Hotel Arena</td>\n",
       "      <td>7.7</td>\n",
       "      <td>Russia</td>\n",
       "      <td>2.9</td>\n",
       "      <td>I am so angry that i made this post available...</td>\n",
       "      <td>397</td>\n",
       "      <td>Only the park outside of the hotel was beauti...</td>\n",
       "      <td>11</td>\n",
       "    </tr>\n",
       "    <tr>\n",
       "      <th>1</th>\n",
       "      <td>Hotel Arena</td>\n",
       "      <td>7.7</td>\n",
       "      <td>Ireland</td>\n",
       "      <td>7.5</td>\n",
       "      <td>No Negative</td>\n",
       "      <td>0</td>\n",
       "      <td>No real complaints the hotel was great great ...</td>\n",
       "      <td>105</td>\n",
       "    </tr>\n",
       "    <tr>\n",
       "      <th>2</th>\n",
       "      <td>Hotel Arena</td>\n",
       "      <td>7.7</td>\n",
       "      <td>Australia</td>\n",
       "      <td>7.1</td>\n",
       "      <td>Rooms are nice but for elderly a bit difficul...</td>\n",
       "      <td>42</td>\n",
       "      <td>Location was good and staff were ok It is cut...</td>\n",
       "      <td>21</td>\n",
       "    </tr>\n",
       "    <tr>\n",
       "      <th>3</th>\n",
       "      <td>Hotel Arena</td>\n",
       "      <td>7.7</td>\n",
       "      <td>United Kingdom</td>\n",
       "      <td>3.8</td>\n",
       "      <td>My room was dirty and I was afraid to walk ba...</td>\n",
       "      <td>210</td>\n",
       "      <td>Great location in nice surroundings the bar a...</td>\n",
       "      <td>26</td>\n",
       "    </tr>\n",
       "    <tr>\n",
       "      <th>4</th>\n",
       "      <td>Hotel Arena</td>\n",
       "      <td>7.7</td>\n",
       "      <td>New Zealand</td>\n",
       "      <td>6.7</td>\n",
       "      <td>You When I booked with your company on line y...</td>\n",
       "      <td>140</td>\n",
       "      <td>Amazing location and building Romantic setting</td>\n",
       "      <td>8</td>\n",
       "    </tr>\n",
       "  </tbody>\n",
       "</table>\n",
       "</div>"
      ],
      "text/plain": [
       "    Hotel_Name  Average_Score Reviewer_Nationality  Reviewer_Score  \\\n",
       "0  Hotel Arena            7.7              Russia              2.9   \n",
       "1  Hotel Arena            7.7             Ireland              7.5   \n",
       "2  Hotel Arena            7.7           Australia              7.1   \n",
       "3  Hotel Arena            7.7      United Kingdom              3.8   \n",
       "4  Hotel Arena            7.7         New Zealand              6.7   \n",
       "\n",
       "                                     Negative_Review  \\\n",
       "0   I am so angry that i made this post available...   \n",
       "1                                        No Negative   \n",
       "2   Rooms are nice but for elderly a bit difficul...   \n",
       "3   My room was dirty and I was afraid to walk ba...   \n",
       "4   You When I booked with your company on line y...   \n",
       "\n",
       "   Review_Total_Negative_Word_Counts  \\\n",
       "0                                397   \n",
       "1                                  0   \n",
       "2                                 42   \n",
       "3                                210   \n",
       "4                                140   \n",
       "\n",
       "                                     Positive_Review  \\\n",
       "0   Only the park outside of the hotel was beauti...   \n",
       "1   No real complaints the hotel was great great ...   \n",
       "2   Location was good and staff were ok It is cut...   \n",
       "3   Great location in nice surroundings the bar a...   \n",
       "4    Amazing location and building Romantic setting    \n",
       "\n",
       "   Review_Total_Positive_Word_Counts  \n",
       "0                                 11  \n",
       "1                                105  \n",
       "2                                 21  \n",
       "3                                 26  \n",
       "4                                  8  "
      ]
     },
     "execution_count": 2,
     "metadata": {},
     "output_type": "execute_result"
    }
   ],
   "source": [
    "# import the dataset\n",
    "data = pd.read_csv(\"Hotel_Reviews.csv\") \n",
    "\n",
    "# store hotel coordinates separately\n",
    "cords = data[[\"Hotel_Name\",\"lat\", \"lng\"]].drop_duplicates()\n",
    "\n",
    "# select only relevant columns\n",
    "data = data[[\"Hotel_Name\", \"Average_Score\", \"Reviewer_Nationality\", \"Reviewer_Score\", \"Negative_Review\", \"Review_Total_Negative_Word_Counts\", \"Positive_Review\", \"Review_Total_Positive_Word_Counts\"]]\n",
    "data.head(5)\n"
   ]
  },
  {
   "cell_type": "code",
   "execution_count": 3,
   "metadata": {},
   "outputs": [
    {
     "name": "stdout",
     "output_type": "stream",
     "text": [
      "This dataframe has 515738 rows and 8 columns\n"
     ]
    }
   ],
   "source": [
    "print(\"This dataframe has\", data.shape[0], \"rows and\", data.shape[1], \"columns\")"
   ]
  },
  {
   "cell_type": "code",
   "execution_count": 4,
   "metadata": {},
   "outputs": [],
   "source": [
    "# replace No Negative and No Positive values with an empty space\n",
    "data = data.replace(\"No Negative\", \"\")\n",
    "data = data.replace(\"No Positive\", \"\")"
   ]
  },
  {
   "cell_type": "code",
   "execution_count": 5,
   "metadata": {},
   "outputs": [
    {
     "data": {
      "text/plain": [
       "Hotel_Name                           0\n",
       "Average_Score                        0\n",
       "Reviewer_Nationality                 0\n",
       "Reviewer_Score                       0\n",
       "Negative_Review                      0\n",
       "Review_Total_Negative_Word_Counts    0\n",
       "Positive_Review                      0\n",
       "Review_Total_Positive_Word_Counts    0\n",
       "dtype: int64"
      ]
     },
     "execution_count": 5,
     "metadata": {},
     "output_type": "execute_result"
    }
   ],
   "source": [
    "# total amount of NaNs in the dataframe = 0\n",
    "data.isnull().sum()"
   ]
  },
  {
   "cell_type": "code",
   "execution_count": 7,
   "metadata": {},
   "outputs": [
    {
     "name": "stdout",
     "output_type": "stream",
     "text": [
      "There are 1492 unique hotels in this dataset\n"
     ]
    }
   ],
   "source": [
    "print(\"There are\", data[\"Hotel_Name\"].nunique(), \"unique hotels in this dataset\")"
   ]
  },
  {
   "cell_type": "markdown",
   "metadata": {},
   "source": [
    "### EDA"
   ]
  },
  {
   "cell_type": "markdown",
   "metadata": {},
   "source": [
    "1. Distribution of Reviewer Scores"
   ]
  },
  {
   "cell_type": "code",
   "execution_count": 92,
   "metadata": {},
   "outputs": [
    {
     "data": {
      "text/plain": [
       "Text(0.5, 1.0, 'Distribution of Reviewer Scores')"
      ]
     },
     "execution_count": 92,
     "metadata": {},
     "output_type": "execute_result"
    },
    {
     "data": {
      "image/png": "[encoded data removed]",
      "text/plain": [
       "<Figure size 432x288 with 1 Axes>"
      ]
     },
     "metadata": {
      "needs_background": "light"
     },
     "output_type": "display_data"
    }
   ],
   "source": [
    "# check the distribution of reviewer scores\n",
    "sns.histplot(data = data, x = \"Reviewer_Score\", bins = 3).set_title(\"Distribution of Reviewer Scores\")"
   ]
  },
  {
   "cell_type": "markdown",
   "metadata": {},
   "source": [
    "It looks like most reviews range from 7 to 10, so are mostly positive. "
   ]
  },
  {
   "cell_type": "code",
   "execution_count": 9,
   "metadata": {},
   "outputs": [
    {
     "name": "stdout",
     "output_type": "stream",
     "text": [
      "More characteristics:\n",
      "- mean: 8.4 \n",
      "- median: 8.8\n"
     ]
    }
   ],
   "source": [
    "print(\"More characteristics:\\n- mean:\", round(data[\"Reviewer_Score\"].mean(),2), \"\\n- median:\", round(data[\"Reviewer_Score\"].median(), 2))"
   ]
  },
  {
   "cell_type": "markdown",
   "metadata": {},
   "source": [
    "<br>2. Distribution of Hotel Scores"
   ]
  },
  {
   "cell_type": "code",
   "execution_count": 89,
   "metadata": {},
   "outputs": [
    {
     "data": {
      "text/plain": [
       "Text(0.5, 1.0, 'Distribution of Hotel Scores')"
      ]
     },
     "execution_count": 89,
     "metadata": {},
     "output_type": "execute_result"
    },
    {
     "data": {
      "image/png": "[encoded data removed]",
      "text/plain": [
       "<Figure size 432x288 with 1 Axes>"
      ]
     },
     "metadata": {
      "needs_background": "light"
     },
     "output_type": "display_data"
    }
   ],
   "source": [
    "# check distributon of hotel scores\n",
    "sns.histplot(data = data, x = \"Average_Score\", bins = 5).set_title(\"Distribution of Hotel Scores\")"
   ]
  },
  {
   "cell_type": "markdown",
   "metadata": {},
   "source": [
    "Most hotels are in the 8-9 score range."
   ]
  },
  {
   "cell_type": "markdown",
   "metadata": {},
   "source": [
    "<br>3. Distribution of thr reviewers' nationalities."
   ]
  },
  {
   "cell_type": "code",
   "execution_count": 94,
   "metadata": {},
   "outputs": [
    {
     "data": {
      "text/plain": [
       "[]"
      ]
     },
     "execution_count": 94,
     "metadata": {},
     "output_type": "execute_result"
    },
    {
     "data": {
      "image/png": "[encoded data removed]",
      "text/plain": [
       "<Figure size 432x288 with 1 Axes>"
      ]
     },
     "metadata": {
      "needs_background": "light"
     },
     "output_type": "display_data"
    }
   ],
   "source": [
    "cp = sns.countplot(x = \"Reviewer_Nationality\", data = data, order=pd.value_counts(data['Reviewer_Nationality']).iloc[:5].index)\n",
    "cp.set_xticklabels(cp.get_xticklabels(),rotation=45)\n",
    "cp.plot()"
   ]
  },
  {
   "cell_type": "markdown",
   "metadata": {},
   "source": [
    "Most reviewers are from the United Kigdom."
   ]
  },
  {
   "cell_type": "markdown",
   "metadata": {},
   "source": [
    "<br>4. Distribution of review word counts."
   ]
  },
  {
   "cell_type": "code",
   "execution_count": 12,
   "metadata": {},
   "outputs": [],
   "source": [
    "tmp = data[[\"Review_Total_Negative_Word_Counts\", \"Review_Total_Positive_Word_Counts\"]]\n",
    "tmp.columns = [\"Negative\", \"Positive\"]\n",
    "tmp = pd.melt(tmp)\n",
    "tmp.columns = [\"Negative vs Positive\",\"Word Count\"]"
   ]
  },
  {
   "cell_type": "code",
   "execution_count": 95,
   "metadata": {},
   "outputs": [
    {
     "data": {
      "text/plain": [
       "Text(0.5, 1.0, 'Distribution of review word counts')"
      ]
     },
     "execution_count": 95,
     "metadata": {},
     "output_type": "execute_result"
    },
    {
     "data": {
      "image/png": "[encoded data removed]",
      "text/plain": [
       "<Figure size 432x288 with 1 Axes>"
      ]
     },
     "metadata": {
      "needs_background": "light"
     },
     "output_type": "display_data"
    }
   ],
   "source": [
    "sns.boxplot(data = tmp, x = \"Negative vs Positive\", y = \"Word Count\", fliersize = 0.2 , palette = [\"b\", \"r\"], showfliers = False).set_title(\"Distribution of review word counts\")"
   ]
  },
  {
   "cell_type": "markdown",
   "metadata": {},
   "source": [
    "It looks like negative reviews tend to be slightly longer than the positive reviews."
   ]
  },
  {
   "cell_type": "markdown",
   "metadata": {},
   "source": [
    "<br>4. Distribution of hotel locations."
   ]
  },
  {
   "cell_type": "code",
   "execution_count": 14,
   "metadata": {},
   "outputs": [
    {
     "data": {
      "text/plain": [
       "Hotel_Name    0\n",
       "lat           0\n",
       "lng           0\n",
       "dtype: int64"
      ]
     },
     "execution_count": 14,
     "metadata": {},
     "output_type": "execute_result"
    }
   ],
   "source": [
    "cords = cords.dropna()\n",
    "#there's 17 NaNs in the coordnates so we want to drop these rows\n",
    "cords.isnull().sum()"
   ]
  },
  {
   "cell_type": "code",
   "execution_count": 19,
   "metadata": {},
   "outputs": [],
   "source": [
    "# get the average latitute and longitude to center the map\n",
    "avg_lat = cords[\"lat\"].mean()\n",
    "avg_lng = cords[\"lng\"].mean()"
   ]
  },
  {
   "cell_type": "code",
   "execution_count": 25,
   "metadata": {},
   "outputs": [],
   "source": [
    "# prepare the coordinates\n",
    "cords = cords[[\"lat\", \"lng\"]]\n",
    "cords1 = cords.groupby([\"lat\", \"lng\"]).sum().reset_index().values.tolist()"
   ]
  },
  {
   "cell_type": "code",
   "execution_count": 343,
   "metadata": {},
   "outputs": [
    {
     "data": {
      "text/html": [
       "<div style=\"width:100%;\"><div style=\"position:relative;width:100%;height:0;padding-bottom:60%;\"><span style=\"color:#565656\">Make this Notebook Trusted to load map: File -> Trust Notebook</span><iframe src=\"about:blank\" style=\"position:absolute;width:100%;height:100%;left:0;top:0;border:none !important;\" data-html=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 onload=\"this.contentDocument.open();this.contentDocument.write(atob(this.getAttribute('data-html')));this.contentDocument.close();\" allowfullscreen webkitallowfullscreen mozallowfullscreen></iframe></div></div>"
      ],
      "text/plain": [
       "<folium.folium.Map at 0x7feab1c32520>"
      ]
     },
     "execution_count": 343,
     "metadata": {},
     "output_type": "execute_result"
    }
   ],
   "source": [
    "base_map = folium.Map(location=[avg_lat, avg_lng], control_scale=True, zoom_start=5)\n",
    "HeatMap(data=cords1, radius=40, blur = 30, max_zoom=13).add_to(base_map)\n",
    "base_map"
   ]
  },
  {
   "cell_type": "markdown",
   "metadata": {},
   "source": [
    "It looks like most hotels are in the United Kingdom and France."
   ]
  },
  {
   "cell_type": "markdown",
   "metadata": {},
   "source": [
    "### 2. Textual data analysis"
   ]
  },
  {
   "cell_type": "markdown",
   "metadata": {},
   "source": [
    "1. Preprocess the textual data "
   ]
  },
  {
   "cell_type": "markdown",
   "metadata": {},
   "source": [
    "I had to take a sample of the original data (10%) because it was taking so long to process. "
   ]
  },
  {
   "cell_type": "code",
   "execution_count": 142,
   "metadata": {},
   "outputs": [],
   "source": [
    "txt_data = data[[\"Positive_Review\", \"Negative_Review\", \"Reviewer_Score\"]]\n",
    "txt_data_sample = txt_data.sample(frac = 0.1, axis = 0)"
   ]
  },
  {
   "cell_type": "markdown",
   "metadata": {},
   "source": [
    "This function returns a Part-of-Speech tag. It's a common function used for POS tagging with the NLTK wordnet."
   ]
  },
  {
   "cell_type": "code",
   "execution_count": 106,
   "metadata": {},
   "outputs": [],
   "source": [
    "def get_pos(word):\n",
    "    if tag.startswith('J'):\n",
    "        return wordnet.ADJ\n",
    "    elif tag.startswith('V'):\n",
    "        return wordnet.VERB\n",
    "    elif tag.startswith('N'):\n",
    "        return wordnet.NOUN\n",
    "    elif tag.startswith('R'):\n",
    "        return wordnet.ADV\n",
    "    else:\n",
    "        return wordnet.NOUN"
   ]
  },
  {
   "cell_type": "markdown",
   "metadata": {},
   "source": [
    "This function removes the stopwords from the reviews, converts each review to lowercase, removes all numbers, and lemmatizes each word. It returns a clean review."
   ]
  },
  {
   "cell_type": "code",
   "execution_count": 107,
   "metadata": {},
   "outputs": [],
   "source": [
    "# prepare my own stopwords excluding no and not\n",
    "new_stopwords = set(stopwords.words('english')) - {'no', 'not'}\n",
    "# regex pattern to remove the stopwords\n",
    "pattern = re.compile(r'\\b(' + r'|'.join(new_stopwords) + r')\\b\\s*')\n",
    "\n",
    "def preprocessReviews(row):\n",
    "    # to lowercase\n",
    "    tmp = row.lower()\n",
    "    # remove the stopwords\n",
    "    tmp = pattern.sub('', tmp)\n",
    "    # remove numbers\n",
    "    tmp = re.sub(\"\\d+\", \"\", tmp)\n",
    "    # tokenize the review\n",
    "    splt = tmp.split(\" \")\n",
    "    # remove empty tokens from the list\n",
    "    splt = [t for t in splt if len(t) > 0]\n",
    "    # use a POS tagger to get a tagged token\n",
    "    pos = pos_tag(splt)\n",
    "    # lemmatize each word\n",
    "    lem = [WordNetLemmatizer().lemmatize(w[0], get_pos(w[1])) for w in pos] \n",
    "    # put it all together\n",
    "    text = \" \".join(lem)\n",
    "    return text"
   ]
  },
  {
   "cell_type": "code",
   "execution_count": 183,
   "metadata": {},
   "outputs": [
    {
     "name": "stdout",
     "output_type": "stream",
     "text": [
      "1.4012146631876627 minutes\n"
     ]
    }
   ],
   "source": [
    "# apply the function to preprocess all reviews\n",
    "start_time = time.time()\n",
    "txt_data_sample[\"Positive_Review\"] = txt_data_sample[\"Positive_Review\"].apply(preprocessReviews)\n",
    "txt_data_sample[\"Negative_Review\"] = txt_data_sample[\"Negative_Review\"].apply(preprocessReviews)\n",
    "print((time.time() - start_time)/60, \"minutes\")"
   ]
  },
  {
   "cell_type": "code",
   "execution_count": 184,
   "metadata": {},
   "outputs": [
    {
     "data": {
      "text/html": [
       "<div>\n",
       "<style scoped>\n",
       "    .dataframe tbody tr th:only-of-type {\n",
       "        vertical-align: middle;\n",
       "    }\n",
       "\n",
       "    .dataframe tbody tr th {\n",
       "        vertical-align: top;\n",
       "    }\n",
       "\n",
       "    .dataframe thead th {\n",
       "        text-align: right;\n",
       "    }\n",
       "</style>\n",
       "<table border=\"1\" class=\"dataframe\">\n",
       "  <thead>\n",
       "    <tr style=\"text-align: right;\">\n",
       "      <th></th>\n",
       "      <th>Positive_Review</th>\n",
       "      <th>Negative_Review</th>\n",
       "      <th>Reviewer_Score</th>\n",
       "    </tr>\n",
       "  </thead>\n",
       "  <tbody>\n",
       "    <tr>\n",
       "      <th>403963</th>\n",
       "      <td>location great city center vienna</td>\n",
       "      <td>bed short person cm single room</td>\n",
       "      <td>7.5</td>\n",
       "    </tr>\n",
       "    <tr>\n",
       "      <th>157510</th>\n",
       "      <td>staff extremely nice helpful</td>\n",
       "      <td></td>\n",
       "      <td>10.0</td>\n",
       "    </tr>\n",
       "    <tr>\n",
       "      <th>107772</th>\n",
       "      <td>comfortable clean</td>\n",
       "      <td>shower not properly seal water spill bathroom ...</td>\n",
       "      <td>9.2</td>\n",
       "    </tr>\n",
       "    <tr>\n",
       "      <th>279885</th>\n",
       "      <td>appreciate warm welcome help receive soon ente...</td>\n",
       "      <td>window could cleaner could get good picture fi...</td>\n",
       "      <td>9.6</td>\n",
       "    </tr>\n",
       "    <tr>\n",
       "      <th>492898</th>\n",
       "      <td>room really comfortable bed amaze minute walk ...</td>\n",
       "      <td></td>\n",
       "      <td>10.0</td>\n",
       "    </tr>\n",
       "  </tbody>\n",
       "</table>\n",
       "</div>"
      ],
      "text/plain": [
       "                                          Positive_Review  \\\n",
       "403963                  location great city center vienna   \n",
       "157510                       staff extremely nice helpful   \n",
       "107772                                  comfortable clean   \n",
       "279885  appreciate warm welcome help receive soon ente...   \n",
       "492898  room really comfortable bed amaze minute walk ...   \n",
       "\n",
       "                                          Negative_Review  Reviewer_Score  \n",
       "403963                    bed short person cm single room             7.5  \n",
       "157510                                                               10.0  \n",
       "107772  shower not properly seal water spill bathroom ...             9.2  \n",
       "279885  window could cleaner could get good picture fi...             9.6  \n",
       "492898                                                               10.0  "
      ]
     },
     "execution_count": 184,
     "metadata": {},
     "output_type": "execute_result"
    }
   ],
   "source": [
    "txt_data_sample.head(5)"
   ]
  },
  {
   "cell_type": "markdown",
   "metadata": {},
   "source": [
    "2. Topic Modeling"
   ]
  },
  {
   "cell_type": "markdown",
   "metadata": {},
   "source": [
    "<b> Positive topics:"
   ]
  },
  {
   "cell_type": "code",
   "execution_count": 275,
   "metadata": {},
   "outputs": [],
   "source": [
    "pos_rev_data = txt_data_sample.loc[txt_data_sample[\"Reviewer_Score\"] >= 8, \"Positive_Review\"]\n",
    "count_vect_pos = CountVectorizer(max_df=0.85, min_df=4, stop_words = 'english')\n",
    "doc_term_matrix_pos = count_vect_pos.fit_transform(pos_rev_data.values.astype('U'))"
   ]
  },
  {
   "cell_type": "code",
   "execution_count": 327,
   "metadata": {},
   "outputs": [
    {
     "data": {
      "text/plain": [
       "LatentDirichletAllocation(doc_topic_prior=0.05, n_components=4,\n",
       "                          topic_word_prior=0.01)"
      ]
     },
     "execution_count": 327,
     "metadata": {},
     "output_type": "execute_result"
    }
   ],
   "source": [
    "LDA_pos = LatentDirichletAllocation(n_components=4, doc_topic_prior = 0.05, topic_word_prior = 0.01)\n",
    "LDA_pos.fit(doc_term_matrix_pos)"
   ]
  },
  {
   "cell_type": "code",
   "execution_count": 341,
   "metadata": {},
   "outputs": [
    {
     "name": "stdout",
     "output_type": "stream",
     "text": [
      "Top 10 positive words for topic #1:\n",
      "['hotel', 'clean', 'breakfast', 'excellent', 'friendly', 'good', 'room', 'great', 'staff', 'location']\n",
      "\n",
      "\n",
      "Top 10 positive words for topic #2:\n",
      "['metro', 'stay', 'great', 'restaurant', 'minute', 'close', 'station', 'location', 'walk', 'hotel']\n",
      "\n",
      "\n",
      "Top 10 positive words for topic #3:\n",
      "['location', 'great', 'excellent', 'breakfast', 'room', 'stay', 'friendly', 'helpful', 'hotel', 'staff']\n",
      "\n",
      "\n",
      "Top 10 positive words for topic #4:\n",
      "['bathroom', 'lovely', 'hotel', 'view', 'great', 'nice', 'comfy', 'comfortable', 'bed', 'room']\n",
      "\n",
      "\n"
     ]
    }
   ],
   "source": [
    "for i,topic in enumerate(LDA_pos.components_):\n",
    "    print(f'Top 10 positive words for topic #{i+1}:')\n",
    "    print([count_vect_pos.get_feature_names()[i] for i in topic.argsort()[-10:]])\n",
    "    print('\\n')"
   ]
  },
  {
   "cell_type": "markdown",
   "metadata": {},
   "source": [
    "<b> Negative topics:"
   ]
  },
  {
   "cell_type": "code",
   "execution_count": 337,
   "metadata": {},
   "outputs": [],
   "source": [
    "neg_rev_data = txt_data_sample.loc[txt_data_sample[\"Reviewer_Score\"] <=5, \"Negative_Review\"]\n",
    "count_vect_neg = CountVectorizer(max_df=0.9, min_df=1, stop_words = 'english')\n",
    "doc_term_matrix_neg = count_vect_neg.fit_transform(neg_rev_data.values.astype('U'))"
   ]
  },
  {
   "cell_type": "code",
   "execution_count": 338,
   "metadata": {},
   "outputs": [
    {
     "data": {
      "text/plain": [
       "LatentDirichletAllocation(doc_topic_prior=0.05, n_components=4,\n",
       "                          topic_word_prior=0.01)"
      ]
     },
     "execution_count": 338,
     "metadata": {},
     "output_type": "execute_result"
    }
   ],
   "source": [
    "LDA_neg = LatentDirichletAllocation(n_components=4, doc_topic_prior = 0.05, topic_word_prior = 0.01)\n",
    "LDA_neg.fit(doc_term_matrix_neg)"
   ]
  },
  {
   "cell_type": "code",
   "execution_count": 340,
   "metadata": {},
   "outputs": [
    {
     "name": "stdout",
     "output_type": "stream",
     "text": [
      "Top 10 negative words for topic #1:\n",
      "['clean', 'bathroom', 'need', 'bed', 'check', 'old', 'small', 'staff', 'hotel', 'room']\n",
      "\n",
      "\n",
      "Top 10 negative words for topic #2:\n",
      "['food', 'star', 'bed', 'water', 'poor', 'breakfast', 'service', 'hotel', 'room', 'staff']\n",
      "\n",
      "\n",
      "Top 10 negative words for topic #3:\n",
      "['ask', 'like', 'book', 'staff', 'night', 'small', 'stay', 'bed', 'hotel', 'room']\n",
      "\n",
      "\n",
      "Top 10 negative words for topic #4:\n",
      "['price', 'poor', 'money', 'work', 'bad', 'service', 'pay', 'breakfast', 'hotel', 'room']\n",
      "\n",
      "\n"
     ]
    }
   ],
   "source": [
    "for i,topic in enumerate(LDA_neg.components_):\n",
    "    print(f'Top 10 negative words for topic #{i+1}:')\n",
    "    print([count_vect_neg.get_feature_names()[i] for i in topic.argsort()[-10:]])\n",
    "    print('\\n')"
   ]
  },
  {
   "cell_type": "markdown",
   "metadata": {},
   "source": [
    "3. Tokenize the reviews"
   ]
  },
  {
   "cell_type": "markdown",
   "metadata": {},
   "source": [
    "I tokenize both positive and negative review columns to get more insights on what words appear in the most positive scores and most negative scores."
   ]
  },
  {
   "cell_type": "code",
   "execution_count": 32,
   "metadata": {},
   "outputs": [],
   "source": [
    "txt_data_tokens = txt_data_sample.copy()"
   ]
  },
  {
   "cell_type": "code",
   "execution_count": 33,
   "metadata": {},
   "outputs": [
    {
     "name": "stdout",
     "output_type": "stream",
     "text": [
      "12.004304885864258 seconds\n"
     ]
    }
   ],
   "source": [
    "# tokenize the columns\n",
    "start_time = time.time()\n",
    "txt_data_tokens[\"Pos_Tokens\"] = txt_data_tokens[\"Positive_Review\"].apply(nltk.word_tokenize)\n",
    "txt_data_tokens[\"Neg_Tokens\"] = txt_data_tokens[\"Negative_Review\"].apply(nltk.word_tokenize)\n",
    "print(time.time() - start_time, \"seconds\")"
   ]
  },
  {
   "cell_type": "code",
   "execution_count": 34,
   "metadata": {},
   "outputs": [
    {
     "data": {
      "text/html": [
       "<div>\n",
       "<style scoped>\n",
       "    .dataframe tbody tr th:only-of-type {\n",
       "        vertical-align: middle;\n",
       "    }\n",
       "\n",
       "    .dataframe tbody tr th {\n",
       "        vertical-align: top;\n",
       "    }\n",
       "\n",
       "    .dataframe thead th {\n",
       "        text-align: right;\n",
       "    }\n",
       "</style>\n",
       "<table border=\"1\" class=\"dataframe\">\n",
       "  <thead>\n",
       "    <tr style=\"text-align: right;\">\n",
       "      <th></th>\n",
       "      <th>Reviewer_Score</th>\n",
       "      <th>Pos_Tokens</th>\n",
       "      <th>Neg_Tokens</th>\n",
       "    </tr>\n",
       "  </thead>\n",
       "  <tbody>\n",
       "    <tr>\n",
       "      <th>374140</th>\n",
       "      <td>10.0</td>\n",
       "      <td>[bed, amaze, great, rest, room, look, beautifu...</td>\n",
       "      <td>[room, service, bar, close, night, give, two, ...</td>\n",
       "    </tr>\n",
       "    <tr>\n",
       "      <th>224275</th>\n",
       "      <td>9.6</td>\n",
       "      <td>[great, room, view, shard, st, paul, lovely, s...</td>\n",
       "      <td>[aircon, could, clean]</td>\n",
       "    </tr>\n",
       "    <tr>\n",
       "      <th>325539</th>\n",
       "      <td>5.8</td>\n",
       "      <td>[overall, nice, hotel, good, location]</td>\n",
       "      <td>[book, non, smoking, room, obviously, previous...</td>\n",
       "    </tr>\n",
       "    <tr>\n",
       "      <th>154270</th>\n",
       "      <td>7.1</td>\n",
       "      <td>[good, location, comfortable, room]</td>\n",
       "      <td>[]</td>\n",
       "    </tr>\n",
       "    <tr>\n",
       "      <th>263233</th>\n",
       "      <td>7.5</td>\n",
       "      <td>[location]</td>\n",
       "      <td>[]</td>\n",
       "    </tr>\n",
       "  </tbody>\n",
       "</table>\n",
       "</div>"
      ],
      "text/plain": [
       "        Reviewer_Score                                         Pos_Tokens  \\\n",
       "374140            10.0  [bed, amaze, great, rest, room, look, beautifu...   \n",
       "224275             9.6  [great, room, view, shard, st, paul, lovely, s...   \n",
       "325539             5.8             [overall, nice, hotel, good, location]   \n",
       "154270             7.1                [good, location, comfortable, room]   \n",
       "263233             7.5                                         [location]   \n",
       "\n",
       "                                               Neg_Tokens  \n",
       "374140  [room, service, bar, close, night, give, two, ...  \n",
       "224275                             [aircon, could, clean]  \n",
       "325539  [book, non, smoking, room, obviously, previous...  \n",
       "154270                                                 []  \n",
       "263233                                                 []  "
      ]
     },
     "execution_count": 34,
     "metadata": {},
     "output_type": "execute_result"
    }
   ],
   "source": [
    "txt_data_tokens = txt_data_tokens[[\"Reviewer_Score\",\"Pos_Tokens\", \"Neg_Tokens\"]]\n",
    "txt_data_tokens.head(5)"
   ]
  },
  {
   "cell_type": "markdown",
   "metadata": {},
   "source": [
    "I subset this dataframe to get only the most positive and most negative reviews."
   ]
  },
  {
   "cell_type": "code",
   "execution_count": 40,
   "metadata": {},
   "outputs": [],
   "source": [
    "pos_tokens_pos_rev = txt_data_tokens.loc[txt_data_tokens[\"Reviewer_Score\"] >= 8, \"Pos_Tokens\"]\n",
    "neg_tokens_neg_rev = txt_data_tokens.loc[txt_data_tokens[\"Reviewer_Score\"] <=5, \"Neg_Tokens\"]"
   ]
  },
  {
   "cell_type": "markdown",
   "metadata": {},
   "source": [
    "Now, I get the frequency distribution for each token and keep the most common 50 for both positive and negative reviews."
   ]
  },
  {
   "cell_type": "code",
   "execution_count": 41,
   "metadata": {},
   "outputs": [
    {
     "data": {
      "text/plain": [
       "{'staff': 15523,\n",
       " 'room': 13795,\n",
       " 'location': 12626,\n",
       " 'hotel': 10259,\n",
       " 'great': 8620,\n",
       " 'good': 7143,\n",
       " 'friendly': 6776,\n",
       " 'breakfast': 6338,\n",
       " 'helpful': 6048,\n",
       " 'excellent': 5162,\n",
       " 'clean': 4992,\n",
       " 'nice': 4939,\n",
       " 'bed': 4780,\n",
       " 'comfortable': 4736,\n",
       " 'stay': 3698,\n",
       " 'lovely': 3020,\n",
       " 'walk': 2484,\n",
       " 'everything': 2465,\n",
       " 'really': 2342,\n",
       " 'service': 2321,\n",
       " 'station': 2293,\n",
       " 'perfect': 2189,\n",
       " 'close': 2137,\n",
       " 'well': 2081,\n",
       " 'restaurant': 2004,\n",
       " 'bar': 1819,\n",
       " 'view': 1773,\n",
       " 'quiet': 1727,\n",
       " 'u': 1606,\n",
       " 'would': 1606,\n",
       " 'comfy': 1561,\n",
       " 'not': 1549,\n",
       " 'love': 1448,\n",
       " 'also': 1440,\n",
       " 'bathroom': 1423,\n",
       " 'fantastic': 1383,\n",
       " 'facility': 1352,\n",
       " 'food': 1349,\n",
       " 'modern': 1341,\n",
       " 'area': 1336,\n",
       " 'get': 1314,\n",
       " 'spacious': 1280,\n",
       " 'london': 1279,\n",
       " 'make': 1257,\n",
       " 'free': 1252,\n",
       " 'amaze': 1240,\n",
       " 'beautiful': 1232,\n",
       " 'like': 1232,\n",
       " 'place': 1182,\n",
       " 'metro': 1174}"
      ]
     },
     "execution_count": 41,
     "metadata": {},
     "output_type": "execute_result"
    }
   ],
   "source": [
    "fdist_pos_tokens_pos_rev = nltk.FreqDist()\n",
    "\n",
    "for i in range(0, len(pos_tokens_pos_rev)):\n",
    "    for token in pos_tokens_pos_rev.iloc[i]:\n",
    "        fdist_pos_tokens_pos_rev[token] += 1\n",
    "        \n",
    "pos_cols = dict(fdist_pos_tokens_pos_rev.most_common(50))\n",
    "pos_cols"
   ]
  },
  {
   "cell_type": "code",
   "execution_count": 59,
   "metadata": {},
   "outputs": [
    {
     "data": {
      "image/png": "[encoded data removed]",
      "text/plain": [
       "<Figure size 432x288 with 1 Axes>"
      ]
     },
     "metadata": {},
     "output_type": "display_data"
    }
   ],
   "source": [
    "wc = wordcloud.WordCloud(background_color = \"white\")\n",
    "wc.fit_words(pos_cols)\n",
    "plt.figure(facecolor='w')\n",
    "plt.imshow(wc)\n",
    "plt.axis(\"off\")\n",
    "plt.tight_layout(pad=0)"
   ]
  },
  {
   "cell_type": "code",
   "execution_count": 60,
   "metadata": {},
   "outputs": [
    {
     "data": {
      "text/plain": [
       "{'room': 3323,\n",
       " 'not': 2180,\n",
       " 'hotel': 1541,\n",
       " 'no': 1111,\n",
       " 'staff': 809,\n",
       " 'small': 651,\n",
       " 'bed': 600,\n",
       " 'breakfast': 529,\n",
       " 'get': 489,\n",
       " 'night': 473,\n",
       " 'stay': 469,\n",
       " 'one': 457,\n",
       " 'book': 441,\n",
       " 'bathroom': 411,\n",
       " 'service': 394,\n",
       " 'work': 385,\n",
       " 'even': 377,\n",
       " 'poor': 374,\n",
       " 'bad': 371,\n",
       " 'pay': 357,\n",
       " 'day': 342,\n",
       " 'would': 340,\n",
       " 'star': 334,\n",
       " 'u': 334,\n",
       " 'check': 332,\n",
       " 'ask': 329,\n",
       " 'time': 318,\n",
       " 'reception': 314,\n",
       " 'like': 310,\n",
       " 'shower': 300,\n",
       " 'clean': 296,\n",
       " 'could': 289,\n",
       " 'dirty': 274,\n",
       " 'go': 273,\n",
       " 'give': 273,\n",
       " 'old': 270,\n",
       " 'make': 270,\n",
       " 'need': 252,\n",
       " 'floor': 250,\n",
       " 'tell': 248,\n",
       " 'also': 243,\n",
       " 'water': 241,\n",
       " 'take': 235,\n",
       " 'say': 233,\n",
       " 'good': 230,\n",
       " 'money': 222,\n",
       " 'window': 217,\n",
       " 'air': 217,\n",
       " 'come': 216,\n",
       " 'door': 214}"
      ]
     },
     "execution_count": 60,
     "metadata": {},
     "output_type": "execute_result"
    }
   ],
   "source": [
    "fdist_neg_tokens_neg_rev = nltk.FreqDist()\n",
    "\n",
    "for i in range(0, len(neg_tokens_neg_rev)):\n",
    "    for token in neg_tokens_neg_rev.iloc[i]:\n",
    "        fdist_neg_tokens_neg_rev[token] += 1\n",
    "        \n",
    "neg_cols = dict(fdist_neg_tokens_neg_rev.most_common(50))\n",
    "neg_cols"
   ]
  },
  {
   "cell_type": "code",
   "execution_count": 345,
   "metadata": {},
   "outputs": [
    {
     "data": {
      "image/png": "[encoded data removed]",
      "text/plain": [
       "<Figure size 432x288 with 1 Axes>"
      ]
     },
     "metadata": {},
     "output_type": "display_data"
    }
   ],
   "source": [
    "def red_color_func(word, font_size, position, orientation, random_state=None,**kwargs):\n",
    "    return \"hsl(0, 100%%, %d%%)\" % random.randint(30, 50)\n",
    "\n",
    "wc = wordcloud.WordCloud(background_color = \"white\")\n",
    "wc.fit_words(neg_cols)\n",
    "plt.figure(facecolor='w')\n",
    "plt.imshow(wc.recolor(color_func=red_color_func),interpolation=\"bilinear\")\n",
    "plt.axis(\"off\")\n",
    "plt.tight_layout(pad=0)\n"
   ]
  },
  {
   "cell_type": "markdown",
   "metadata": {},
   "source": [
    "Now, I want to add these most common tokens as variables. Each key in the most common negative tokens and most common positive tokens dictionary will become it's own variable. They'll take a value of True if the token is found in each review, and False if it's not."
   ]
  },
  {
   "cell_type": "code",
   "execution_count": 62,
   "metadata": {},
   "outputs": [],
   "source": [
    "# this function loops over a list of tokens (each row, so over each tokenized review)\n",
    "\n",
    "def loopOverTokens(toklist, word):\n",
    "    if word in toklist:\n",
    "        return int(True)\n",
    "    else:\n",
    "        return int(False)"
   ]
  },
  {
   "cell_type": "code",
   "execution_count": 63,
   "metadata": {},
   "outputs": [],
   "source": [
    "# this function will return the results which will become a variable\n",
    "\n",
    "def getVals(word, colname):\n",
    "    col = txt_data_tokens[colname].apply(lambda passedlist: loopOverTokens(passedlist, word))\n",
    "    return col"
   ]
  },
  {
   "cell_type": "code",
   "execution_count": 64,
   "metadata": {},
   "outputs": [],
   "source": [
    "# convert the dictionary to a dataframe and drop the first row (values of the dictionary)\n",
    "pos_temp = pd.DataFrame([pos_cols]).drop(0, axis = 0)"
   ]
  },
  {
   "cell_type": "code",
   "execution_count": 65,
   "metadata": {},
   "outputs": [],
   "source": [
    "# apply the function to get the values (whether the word was found in a each row of positive review tokens)\n",
    "pos_wordfound = pos_temp.columns.to_series().apply(lambda name: getVals(name, \"Pos_Tokens\"))\n",
    "pos_wordfound = pos_wordfound.transpose()"
   ]
  },
  {
   "cell_type": "code",
   "execution_count": 66,
   "metadata": {},
   "outputs": [],
   "source": [
    "# convert the dictionary to a dataframe and drop the first row (values of the dictionary)\n",
    "neg_temp = pd.DataFrame([neg_cols]).drop(0, axis = 0)"
   ]
  },
  {
   "cell_type": "code",
   "execution_count": 67,
   "metadata": {},
   "outputs": [],
   "source": [
    "# apply the function to get the values (whether the word was found in a each row of negative review tokens)\n",
    "neg_wordfound = neg_temp.columns.to_series().apply(lambda name: getVals(name, \"Neg_Tokens\"))\n",
    "neg_wordfound = neg_wordfound.transpose()"
   ]
  },
  {
   "cell_type": "code",
   "execution_count": 68,
   "metadata": {},
   "outputs": [],
   "source": [
    "# there will be duplicate column names, so append each column name with a suffix\n",
    "pos_wordfound.columns = [str(col) + '_pos' for col in pos_wordfound.columns]\n",
    "neg_wordfound.columns = [str(col) + '_neg' for col in neg_wordfound.columns]"
   ]
  },
  {
   "cell_type": "code",
   "execution_count": 69,
   "metadata": {},
   "outputs": [
    {
     "data": {
      "text/html": [
       "<div>\n",
       "<style scoped>\n",
       "    .dataframe tbody tr th:only-of-type {\n",
       "        vertical-align: middle;\n",
       "    }\n",
       "\n",
       "    .dataframe tbody tr th {\n",
       "        vertical-align: top;\n",
       "    }\n",
       "\n",
       "    .dataframe thead th {\n",
       "        text-align: right;\n",
       "    }\n",
       "</style>\n",
       "<table border=\"1\" class=\"dataframe\">\n",
       "  <thead>\n",
       "    <tr style=\"text-align: right;\">\n",
       "      <th></th>\n",
       "      <th>staff_pos</th>\n",
       "      <th>room_pos</th>\n",
       "      <th>location_pos</th>\n",
       "      <th>hotel_pos</th>\n",
       "      <th>great_pos</th>\n",
       "      <th>good_pos</th>\n",
       "      <th>friendly_pos</th>\n",
       "      <th>breakfast_pos</th>\n",
       "      <th>helpful_pos</th>\n",
       "      <th>excellent_pos</th>\n",
       "      <th>...</th>\n",
       "      <th>also_neg</th>\n",
       "      <th>water_neg</th>\n",
       "      <th>take_neg</th>\n",
       "      <th>say_neg</th>\n",
       "      <th>good_neg</th>\n",
       "      <th>money_neg</th>\n",
       "      <th>window_neg</th>\n",
       "      <th>air_neg</th>\n",
       "      <th>come_neg</th>\n",
       "      <th>door_neg</th>\n",
       "    </tr>\n",
       "  </thead>\n",
       "  <tbody>\n",
       "    <tr>\n",
       "      <th>374140</th>\n",
       "      <td>0</td>\n",
       "      <td>1</td>\n",
       "      <td>0</td>\n",
       "      <td>0</td>\n",
       "      <td>1</td>\n",
       "      <td>0</td>\n",
       "      <td>0</td>\n",
       "      <td>0</td>\n",
       "      <td>1</td>\n",
       "      <td>0</td>\n",
       "      <td>...</td>\n",
       "      <td>0</td>\n",
       "      <td>0</td>\n",
       "      <td>0</td>\n",
       "      <td>0</td>\n",
       "      <td>0</td>\n",
       "      <td>0</td>\n",
       "      <td>0</td>\n",
       "      <td>0</td>\n",
       "      <td>0</td>\n",
       "      <td>0</td>\n",
       "    </tr>\n",
       "    <tr>\n",
       "      <th>224275</th>\n",
       "      <td>0</td>\n",
       "      <td>1</td>\n",
       "      <td>1</td>\n",
       "      <td>0</td>\n",
       "      <td>1</td>\n",
       "      <td>0</td>\n",
       "      <td>0</td>\n",
       "      <td>0</td>\n",
       "      <td>0</td>\n",
       "      <td>0</td>\n",
       "      <td>...</td>\n",
       "      <td>0</td>\n",
       "      <td>0</td>\n",
       "      <td>0</td>\n",
       "      <td>0</td>\n",
       "      <td>0</td>\n",
       "      <td>0</td>\n",
       "      <td>0</td>\n",
       "      <td>0</td>\n",
       "      <td>0</td>\n",
       "      <td>0</td>\n",
       "    </tr>\n",
       "    <tr>\n",
       "      <th>325539</th>\n",
       "      <td>0</td>\n",
       "      <td>0</td>\n",
       "      <td>1</td>\n",
       "      <td>1</td>\n",
       "      <td>0</td>\n",
       "      <td>1</td>\n",
       "      <td>0</td>\n",
       "      <td>0</td>\n",
       "      <td>0</td>\n",
       "      <td>0</td>\n",
       "      <td>...</td>\n",
       "      <td>0</td>\n",
       "      <td>0</td>\n",
       "      <td>0</td>\n",
       "      <td>0</td>\n",
       "      <td>0</td>\n",
       "      <td>0</td>\n",
       "      <td>0</td>\n",
       "      <td>0</td>\n",
       "      <td>0</td>\n",
       "      <td>0</td>\n",
       "    </tr>\n",
       "    <tr>\n",
       "      <th>154270</th>\n",
       "      <td>0</td>\n",
       "      <td>1</td>\n",
       "      <td>1</td>\n",
       "      <td>0</td>\n",
       "      <td>0</td>\n",
       "      <td>1</td>\n",
       "      <td>0</td>\n",
       "      <td>0</td>\n",
       "      <td>0</td>\n",
       "      <td>0</td>\n",
       "      <td>...</td>\n",
       "      <td>0</td>\n",
       "      <td>0</td>\n",
       "      <td>0</td>\n",
       "      <td>0</td>\n",
       "      <td>0</td>\n",
       "      <td>0</td>\n",
       "      <td>0</td>\n",
       "      <td>0</td>\n",
       "      <td>0</td>\n",
       "      <td>0</td>\n",
       "    </tr>\n",
       "    <tr>\n",
       "      <th>263233</th>\n",
       "      <td>0</td>\n",
       "      <td>0</td>\n",
       "      <td>1</td>\n",
       "      <td>0</td>\n",
       "      <td>0</td>\n",
       "      <td>0</td>\n",
       "      <td>0</td>\n",
       "      <td>0</td>\n",
       "      <td>0</td>\n",
       "      <td>0</td>\n",
       "      <td>...</td>\n",
       "      <td>0</td>\n",
       "      <td>0</td>\n",
       "      <td>0</td>\n",
       "      <td>0</td>\n",
       "      <td>0</td>\n",
       "      <td>0</td>\n",
       "      <td>0</td>\n",
       "      <td>0</td>\n",
       "      <td>0</td>\n",
       "      <td>0</td>\n",
       "    </tr>\n",
       "  </tbody>\n",
       "</table>\n",
       "<p>5 rows × 100 columns</p>\n",
       "</div>"
      ],
      "text/plain": [
       "        staff_pos  room_pos  location_pos  hotel_pos  great_pos  good_pos  \\\n",
       "374140          0         1             0          0          1         0   \n",
       "224275          0         1             1          0          1         0   \n",
       "325539          0         0             1          1          0         1   \n",
       "154270          0         1             1          0          0         1   \n",
       "263233          0         0             1          0          0         0   \n",
       "\n",
       "        friendly_pos  breakfast_pos  helpful_pos  excellent_pos  ...  \\\n",
       "374140             0              0            1              0  ...   \n",
       "224275             0              0            0              0  ...   \n",
       "325539             0              0            0              0  ...   \n",
       "154270             0              0            0              0  ...   \n",
       "263233             0              0            0              0  ...   \n",
       "\n",
       "        also_neg  water_neg  take_neg  say_neg  good_neg  money_neg  \\\n",
       "374140         0          0         0        0         0          0   \n",
       "224275         0          0         0        0         0          0   \n",
       "325539         0          0         0        0         0          0   \n",
       "154270         0          0         0        0         0          0   \n",
       "263233         0          0         0        0         0          0   \n",
       "\n",
       "        window_neg  air_neg  come_neg  door_neg  \n",
       "374140           0        0         0         0  \n",
       "224275           0        0         0         0  \n",
       "325539           0        0         0         0  \n",
       "154270           0        0         0         0  \n",
       "263233           0        0         0         0  \n",
       "\n",
       "[5 rows x 100 columns]"
      ]
     },
     "execution_count": 69,
     "metadata": {},
     "output_type": "execute_result"
    }
   ],
   "source": [
    "# join the dataframes together\n",
    "cols_to_add = pd.concat([pos_wordfound, neg_wordfound], axis=1)\n",
    "cols_to_add.head(5)"
   ]
  },
  {
   "cell_type": "markdown",
   "metadata": {},
   "source": [
    "### 3. Predicting the reviewer score column"
   ]
  },
  {
   "cell_type": "markdown",
   "metadata": {},
   "source": [
    "1. Prepare the dataframe for modeling"
   ]
  },
  {
   "cell_type": "code",
   "execution_count": 70,
   "metadata": {},
   "outputs": [
    {
     "data": {
      "text/plain": [
       "Reviewer_Score                        float64\n",
       "Review_Total_Positive_Word_Counts       int64\n",
       "Review_Total_Negative_Word_Counts       int64\n",
       "Reviewer_Nationality                 category\n",
       "dtype: object"
      ]
     },
     "execution_count": 70,
     "metadata": {},
     "output_type": "execute_result"
    }
   ],
   "source": [
    "# take the same subset of data from the full dataframe\n",
    "data2 = data[data.index.isin(cols_to_add.index)]\n",
    "# keep the columns that will be used for modeling\n",
    "data2 = data2[[\"Reviewer_Score\", \"Review_Total_Positive_Word_Counts\", \"Review_Total_Negative_Word_Counts\", \"Reviewer_Nationality\"]]\n",
    "# convert the reviewer's nationality column to categorical\n",
    "data2[\"Reviewer_Nationality\"] = pd.Categorical(data2[\"Reviewer_Nationality\"])\n",
    "# check the datatypes of each variable\n",
    "data2.dtypes"
   ]
  },
  {
   "cell_type": "code",
   "execution_count": 71,
   "metadata": {},
   "outputs": [],
   "source": [
    "data2[\"Reviewer_Score\"] = np.asarray(data2[\"Reviewer_Score\"], dtype = np.float64)"
   ]
  },
  {
   "cell_type": "code",
   "execution_count": 72,
   "metadata": {},
   "outputs": [],
   "source": [
    "# convert the reviewer nationality column to numerical (dummy)\n",
    "data2[\"Reviewer_Nationality\"] = data2[\"Reviewer_Nationality\"].cat.codes"
   ]
  },
  {
   "cell_type": "code",
   "execution_count": 73,
   "metadata": {},
   "outputs": [
    {
     "data": {
      "text/plain": [
       "Reviewer_Score                       float64\n",
       "Review_Total_Positive_Word_Counts      int64\n",
       "Review_Total_Negative_Word_Counts      int64\n",
       "Reviewer_Nationality                   int16\n",
       "dtype: object"
      ]
     },
     "execution_count": 73,
     "metadata": {},
     "output_type": "execute_result"
    }
   ],
   "source": [
    "data2.dtypes"
   ]
  },
  {
   "cell_type": "code",
   "execution_count": 74,
   "metadata": {},
   "outputs": [
    {
     "data": {
      "text/html": [
       "<div>\n",
       "<style scoped>\n",
       "    .dataframe tbody tr th:only-of-type {\n",
       "        vertical-align: middle;\n",
       "    }\n",
       "\n",
       "    .dataframe tbody tr th {\n",
       "        vertical-align: top;\n",
       "    }\n",
       "\n",
       "    .dataframe thead th {\n",
       "        text-align: right;\n",
       "    }\n",
       "</style>\n",
       "<table border=\"1\" class=\"dataframe\">\n",
       "  <thead>\n",
       "    <tr style=\"text-align: right;\">\n",
       "      <th></th>\n",
       "      <th>Reviewer_Score</th>\n",
       "      <th>Review_Total_Positive_Word_Counts</th>\n",
       "      <th>Review_Total_Negative_Word_Counts</th>\n",
       "      <th>Reviewer_Nationality</th>\n",
       "      <th>staff_pos</th>\n",
       "      <th>room_pos</th>\n",
       "      <th>location_pos</th>\n",
       "      <th>hotel_pos</th>\n",
       "      <th>great_pos</th>\n",
       "      <th>good_pos</th>\n",
       "      <th>...</th>\n",
       "      <th>also_neg</th>\n",
       "      <th>water_neg</th>\n",
       "      <th>take_neg</th>\n",
       "      <th>say_neg</th>\n",
       "      <th>good_neg</th>\n",
       "      <th>money_neg</th>\n",
       "      <th>window_neg</th>\n",
       "      <th>air_neg</th>\n",
       "      <th>come_neg</th>\n",
       "      <th>door_neg</th>\n",
       "    </tr>\n",
       "  </thead>\n",
       "  <tbody>\n",
       "    <tr>\n",
       "      <th>0</th>\n",
       "      <td>2.9</td>\n",
       "      <td>11</td>\n",
       "      <td>397</td>\n",
       "      <td>133</td>\n",
       "      <td>0</td>\n",
       "      <td>0</td>\n",
       "      <td>0</td>\n",
       "      <td>1</td>\n",
       "      <td>0</td>\n",
       "      <td>0</td>\n",
       "      <td>...</td>\n",
       "      <td>0</td>\n",
       "      <td>0</td>\n",
       "      <td>0</td>\n",
       "      <td>0</td>\n",
       "      <td>0</td>\n",
       "      <td>0</td>\n",
       "      <td>1</td>\n",
       "      <td>0</td>\n",
       "      <td>1</td>\n",
       "      <td>0</td>\n",
       "    </tr>\n",
       "    <tr>\n",
       "      <th>1</th>\n",
       "      <td>7.5</td>\n",
       "      <td>105</td>\n",
       "      <td>0</td>\n",
       "      <td>76</td>\n",
       "      <td>1</td>\n",
       "      <td>1</td>\n",
       "      <td>1</td>\n",
       "      <td>1</td>\n",
       "      <td>1</td>\n",
       "      <td>0</td>\n",
       "      <td>...</td>\n",
       "      <td>0</td>\n",
       "      <td>0</td>\n",
       "      <td>0</td>\n",
       "      <td>0</td>\n",
       "      <td>0</td>\n",
       "      <td>0</td>\n",
       "      <td>0</td>\n",
       "      <td>0</td>\n",
       "      <td>0</td>\n",
       "      <td>0</td>\n",
       "    </tr>\n",
       "    <tr>\n",
       "      <th>5</th>\n",
       "      <td>6.7</td>\n",
       "      <td>20</td>\n",
       "      <td>17</td>\n",
       "      <td>128</td>\n",
       "      <td>0</td>\n",
       "      <td>0</td>\n",
       "      <td>0</td>\n",
       "      <td>1</td>\n",
       "      <td>1</td>\n",
       "      <td>1</td>\n",
       "      <td>...</td>\n",
       "      <td>0</td>\n",
       "      <td>0</td>\n",
       "      <td>0</td>\n",
       "      <td>0</td>\n",
       "      <td>0</td>\n",
       "      <td>0</td>\n",
       "      <td>0</td>\n",
       "      <td>0</td>\n",
       "      <td>0</td>\n",
       "      <td>0</td>\n",
       "    </tr>\n",
       "    <tr>\n",
       "      <th>13</th>\n",
       "      <td>9.2</td>\n",
       "      <td>59</td>\n",
       "      <td>0</td>\n",
       "      <td>79</td>\n",
       "      <td>0</td>\n",
       "      <td>1</td>\n",
       "      <td>1</td>\n",
       "      <td>1</td>\n",
       "      <td>1</td>\n",
       "      <td>0</td>\n",
       "      <td>...</td>\n",
       "      <td>0</td>\n",
       "      <td>0</td>\n",
       "      <td>0</td>\n",
       "      <td>0</td>\n",
       "      <td>0</td>\n",
       "      <td>0</td>\n",
       "      <td>0</td>\n",
       "      <td>0</td>\n",
       "      <td>0</td>\n",
       "      <td>0</td>\n",
       "    </tr>\n",
       "    <tr>\n",
       "      <th>30</th>\n",
       "      <td>9.2</td>\n",
       "      <td>28</td>\n",
       "      <td>7</td>\n",
       "      <td>76</td>\n",
       "      <td>1</td>\n",
       "      <td>0</td>\n",
       "      <td>0</td>\n",
       "      <td>0</td>\n",
       "      <td>0</td>\n",
       "      <td>0</td>\n",
       "      <td>...</td>\n",
       "      <td>0</td>\n",
       "      <td>0</td>\n",
       "      <td>0</td>\n",
       "      <td>0</td>\n",
       "      <td>0</td>\n",
       "      <td>0</td>\n",
       "      <td>0</td>\n",
       "      <td>0</td>\n",
       "      <td>0</td>\n",
       "      <td>0</td>\n",
       "    </tr>\n",
       "  </tbody>\n",
       "</table>\n",
       "<p>5 rows × 104 columns</p>\n",
       "</div>"
      ],
      "text/plain": [
       "    Reviewer_Score  Review_Total_Positive_Word_Counts  \\\n",
       "0              2.9                                 11   \n",
       "1              7.5                                105   \n",
       "5              6.7                                 20   \n",
       "13             9.2                                 59   \n",
       "30             9.2                                 28   \n",
       "\n",
       "    Review_Total_Negative_Word_Counts  Reviewer_Nationality  staff_pos  \\\n",
       "0                                 397                   133          0   \n",
       "1                                   0                    76          1   \n",
       "5                                  17                   128          0   \n",
       "13                                  0                    79          0   \n",
       "30                                  7                    76          1   \n",
       "\n",
       "    room_pos  location_pos  hotel_pos  great_pos  good_pos  ...  also_neg  \\\n",
       "0          0             0          1          0         0  ...         0   \n",
       "1          1             1          1          1         0  ...         0   \n",
       "5          0             0          1          1         1  ...         0   \n",
       "13         1             1          1          1         0  ...         0   \n",
       "30         0             0          0          0         0  ...         0   \n",
       "\n",
       "    water_neg  take_neg  say_neg  good_neg  money_neg  window_neg  air_neg  \\\n",
       "0           0         0        0         0          0           1        0   \n",
       "1           0         0        0         0          0           0        0   \n",
       "5           0         0        0         0          0           0        0   \n",
       "13          0         0        0         0          0           0        0   \n",
       "30          0         0        0         0          0           0        0   \n",
       "\n",
       "    come_neg  door_neg  \n",
       "0          1         0  \n",
       "1          0         0  \n",
       "5          0         0  \n",
       "13         0         0  \n",
       "30         0         0  \n",
       "\n",
       "[5 rows x 104 columns]"
      ]
     },
     "execution_count": 74,
     "metadata": {},
     "output_type": "execute_result"
    }
   ],
   "source": [
    "# now, merge the initial dataframe with the variables based on the occurence of each word in a review\n",
    "data_merged = data2.join(cols_to_add)\n",
    "data_merged.head(5)"
   ]
  },
  {
   "cell_type": "code",
   "execution_count": 75,
   "metadata": {},
   "outputs": [],
   "source": [
    "# Get x and y values\n",
    "x = data_merged.iloc[:,1:]\n",
    "y = data_merged.iloc[:,0]"
   ]
  },
  {
   "cell_type": "markdown",
   "metadata": {},
   "source": [
    "Check the correlation of top 15 negative and positive variables"
   ]
  },
  {
   "cell_type": "code",
   "execution_count": 240,
   "metadata": {},
   "outputs": [],
   "source": [
    "corr = data_merged.corr().iloc[:,1]\n",
    "neg_cor = corr.sort_values().iloc[0:14]\n",
    "pos_cor = corr.sort_values(ascending = False).iloc[0:14]\n",
    "df = pd.concat([pos_cor, neg_cor],ignore_index=False)"
   ]
  },
  {
   "cell_type": "code",
   "execution_count": 241,
   "metadata": {},
   "outputs": [
    {
     "data": {
      "image/png": "[encoded data removed]",
      "text/plain": [
       "<Figure size 864x720 with 2 Axes>"
      ]
     },
     "metadata": {
      "needs_background": "light"
     },
     "output_type": "display_data"
    }
   ],
   "source": [
    "top_corr_features = df.index\n",
    "plt.figure(figsize=(12,10))\n",
    "#plot heat map\n",
    "g=sns.heatmap(data_merged[top_corr_features].corr(),annot= False,cmap=\"RdYlGn\")"
   ]
  },
  {
   "cell_type": "code",
   "execution_count": 76,
   "metadata": {},
   "outputs": [],
   "source": [
    "# get the train and test sets\n",
    "x_train, x_test, y_train, y_test = train_test_split(x, y, test_size = 0.30)"
   ]
  },
  {
   "cell_type": "markdown",
   "metadata": {},
   "source": [
    "2. Train and fine tune the XGBoost model "
   ]
  },
  {
   "cell_type": "code",
   "execution_count": 77,
   "metadata": {},
   "outputs": [],
   "source": [
    "# get DMatrix structures for test and train sets\n",
    "dtrain = xgb.DMatrix(x_train, label = y_train)\n",
    "dtest = xgb.DMatrix(x_test, label = y_test)"
   ]
  },
  {
   "cell_type": "code",
   "execution_count": 78,
   "metadata": {},
   "outputs": [],
   "source": [
    "# set the booster parameters\n",
    "params = {\n",
    " #I'll track Mean Absolute Error as the evaluation metric\n",
    " 'eval_metric': 'mae',\n",
    " 'max_depth': 9,\n",
    " 'min_child_weight': 6,\n",
    " 'subsample': 0.9,\n",
    " 'colsample_bytree': 0.7,\n",
    " 'eta': 0.01,\n",
    " # squared loss regression as the objective funtion\n",
    " 'objective': 'reg:squarederror'}"
   ]
  },
  {
   "cell_type": "code",
   "execution_count": 79,
   "metadata": {
    "scrolled": true
   },
   "outputs": [],
   "source": [
    "# train the model\n",
    "model = xgb.train(params, dtrain, num_boost_round=1050, evals=[(dtest, \"Test\")], early_stopping_rounds=10, verbose_eval = False)"
   ]
  },
  {
   "cell_type": "code",
   "execution_count": 80,
   "metadata": {},
   "outputs": [
    {
     "name": "stdout",
     "output_type": "stream",
     "text": [
      "Best MAE during the model training: 0.863796 with 1050 iterations\n"
     ]
    }
   ],
   "source": [
    "print(\"Best MAE during the model training:\", model.best_score, \"with\", model.best_iteration+1, \"iterations\")"
   ]
  },
  {
   "cell_type": "markdown",
   "metadata": {},
   "source": [
    "Now, I'll perform a 5-fold cross-validation."
   ]
  },
  {
   "cell_type": "code",
   "execution_count": 81,
   "metadata": {},
   "outputs": [
    {
     "data": {
      "text/html": [
       "<div>\n",
       "<style scoped>\n",
       "    .dataframe tbody tr th:only-of-type {\n",
       "        vertical-align: middle;\n",
       "    }\n",
       "\n",
       "    .dataframe tbody tr th {\n",
       "        vertical-align: top;\n",
       "    }\n",
       "\n",
       "    .dataframe thead th {\n",
       "        text-align: right;\n",
       "    }\n",
       "</style>\n",
       "<table border=\"1\" class=\"dataframe\">\n",
       "  <thead>\n",
       "    <tr style=\"text-align: right;\">\n",
       "      <th></th>\n",
       "      <th>train-mae-mean</th>\n",
       "      <th>train-mae-std</th>\n",
       "      <th>train-rmse-mean</th>\n",
       "      <th>train-rmse-std</th>\n",
       "      <th>test-mae-mean</th>\n",
       "      <th>test-mae-std</th>\n",
       "      <th>test-rmse-mean</th>\n",
       "      <th>test-rmse-std</th>\n",
       "    </tr>\n",
       "  </thead>\n",
       "  <tbody>\n",
       "    <tr>\n",
       "      <th>0</th>\n",
       "      <td>7.800334</td>\n",
       "      <td>0.003036</td>\n",
       "      <td>7.969931</td>\n",
       "      <td>0.002737</td>\n",
       "      <td>7.800261</td>\n",
       "      <td>0.012264</td>\n",
       "      <td>7.969934</td>\n",
       "      <td>0.011027</td>\n",
       "    </tr>\n",
       "    <tr>\n",
       "      <th>1</th>\n",
       "      <td>7.722423</td>\n",
       "      <td>0.002994</td>\n",
       "      <td>7.892558</td>\n",
       "      <td>0.002727</td>\n",
       "      <td>7.722395</td>\n",
       "      <td>0.012299</td>\n",
       "      <td>7.892597</td>\n",
       "      <td>0.010985</td>\n",
       "    </tr>\n",
       "    <tr>\n",
       "      <th>2</th>\n",
       "      <td>7.645349</td>\n",
       "      <td>0.002962</td>\n",
       "      <td>7.815854</td>\n",
       "      <td>0.002726</td>\n",
       "      <td>7.645322</td>\n",
       "      <td>0.012263</td>\n",
       "      <td>7.815942</td>\n",
       "      <td>0.010943</td>\n",
       "    </tr>\n",
       "    <tr>\n",
       "      <th>3</th>\n",
       "      <td>7.569023</td>\n",
       "      <td>0.002917</td>\n",
       "      <td>7.739960</td>\n",
       "      <td>0.002728</td>\n",
       "      <td>7.568970</td>\n",
       "      <td>0.012257</td>\n",
       "      <td>7.740069</td>\n",
       "      <td>0.010865</td>\n",
       "    </tr>\n",
       "    <tr>\n",
       "      <th>4</th>\n",
       "      <td>7.493432</td>\n",
       "      <td>0.002950</td>\n",
       "      <td>7.664882</td>\n",
       "      <td>0.002641</td>\n",
       "      <td>7.493415</td>\n",
       "      <td>0.012229</td>\n",
       "      <td>7.665044</td>\n",
       "      <td>0.010909</td>\n",
       "    </tr>\n",
       "    <tr>\n",
       "      <th>...</th>\n",
       "      <td>...</td>\n",
       "      <td>...</td>\n",
       "      <td>...</td>\n",
       "      <td>...</td>\n",
       "      <td>...</td>\n",
       "      <td>...</td>\n",
       "      <td>...</td>\n",
       "      <td>...</td>\n",
       "    </tr>\n",
       "    <tr>\n",
       "      <th>1045</th>\n",
       "      <td>0.724781</td>\n",
       "      <td>0.002520</td>\n",
       "      <td>0.988654</td>\n",
       "      <td>0.002189</td>\n",
       "      <td>0.869980</td>\n",
       "      <td>0.008108</td>\n",
       "      <td>1.167186</td>\n",
       "      <td>0.008068</td>\n",
       "    </tr>\n",
       "    <tr>\n",
       "      <th>1046</th>\n",
       "      <td>0.724701</td>\n",
       "      <td>0.002517</td>\n",
       "      <td>0.988573</td>\n",
       "      <td>0.002184</td>\n",
       "      <td>0.869979</td>\n",
       "      <td>0.008109</td>\n",
       "      <td>1.167185</td>\n",
       "      <td>0.008066</td>\n",
       "    </tr>\n",
       "    <tr>\n",
       "      <th>1047</th>\n",
       "      <td>0.724589</td>\n",
       "      <td>0.002514</td>\n",
       "      <td>0.988447</td>\n",
       "      <td>0.002176</td>\n",
       "      <td>0.869970</td>\n",
       "      <td>0.008109</td>\n",
       "      <td>1.167170</td>\n",
       "      <td>0.008069</td>\n",
       "    </tr>\n",
       "    <tr>\n",
       "      <th>1048</th>\n",
       "      <td>0.724485</td>\n",
       "      <td>0.002496</td>\n",
       "      <td>0.988332</td>\n",
       "      <td>0.002162</td>\n",
       "      <td>0.869962</td>\n",
       "      <td>0.008118</td>\n",
       "      <td>1.167164</td>\n",
       "      <td>0.008084</td>\n",
       "    </tr>\n",
       "    <tr>\n",
       "      <th>1049</th>\n",
       "      <td>0.724369</td>\n",
       "      <td>0.002494</td>\n",
       "      <td>0.988198</td>\n",
       "      <td>0.002160</td>\n",
       "      <td>0.869960</td>\n",
       "      <td>0.008126</td>\n",
       "      <td>1.167156</td>\n",
       "      <td>0.008092</td>\n",
       "    </tr>\n",
       "  </tbody>\n",
       "</table>\n",
       "<p>1050 rows × 8 columns</p>\n",
       "</div>"
      ],
      "text/plain": [
       "      train-mae-mean  train-mae-std  train-rmse-mean  train-rmse-std  \\\n",
       "0           7.800334       0.003036         7.969931        0.002737   \n",
       "1           7.722423       0.002994         7.892558        0.002727   \n",
       "2           7.645349       0.002962         7.815854        0.002726   \n",
       "3           7.569023       0.002917         7.739960        0.002728   \n",
       "4           7.493432       0.002950         7.664882        0.002641   \n",
       "...              ...            ...              ...             ...   \n",
       "1045        0.724781       0.002520         0.988654        0.002189   \n",
       "1046        0.724701       0.002517         0.988573        0.002184   \n",
       "1047        0.724589       0.002514         0.988447        0.002176   \n",
       "1048        0.724485       0.002496         0.988332        0.002162   \n",
       "1049        0.724369       0.002494         0.988198        0.002160   \n",
       "\n",
       "      test-mae-mean  test-mae-std  test-rmse-mean  test-rmse-std  \n",
       "0          7.800261      0.012264        7.969934       0.011027  \n",
       "1          7.722395      0.012299        7.892597       0.010985  \n",
       "2          7.645322      0.012263        7.815942       0.010943  \n",
       "3          7.568970      0.012257        7.740069       0.010865  \n",
       "4          7.493415      0.012229        7.665044       0.010909  \n",
       "...             ...           ...             ...            ...  \n",
       "1045       0.869980      0.008108        1.167186       0.008068  \n",
       "1046       0.869979      0.008109        1.167185       0.008066  \n",
       "1047       0.869970      0.008109        1.167170       0.008069  \n",
       "1048       0.869962      0.008118        1.167164       0.008084  \n",
       "1049       0.869960      0.008126        1.167156       0.008092  \n",
       "\n",
       "[1050 rows x 8 columns]"
      ]
     },
     "execution_count": 81,
     "metadata": {},
     "output_type": "execute_result"
    }
   ],
   "source": [
    "# I'll track MAE again during the CV\n",
    "cv_results = xgb.cv(params, dtrain, num_boost_round=1050, nfold=5, metrics={\"mae\", \"rmse\"}, early_stopping_rounds=10)\n",
    "cv_results"
   ]
  },
  {
   "cell_type": "code",
   "execution_count": 82,
   "metadata": {},
   "outputs": [
    {
     "data": {
      "text/plain": [
       "0.8699600000000001"
      ]
     },
     "execution_count": 82,
     "metadata": {},
     "output_type": "execute_result"
    }
   ],
   "source": [
    "cv_results['test-mae-mean'].min()"
   ]
  },
  {
   "cell_type": "code",
   "execution_count": 83,
   "metadata": {},
   "outputs": [
    {
     "data": {
      "text/plain": [
       "1.1671558000000002"
      ]
     },
     "execution_count": 83,
     "metadata": {},
     "output_type": "execute_result"
    }
   ],
   "source": [
    "cv_results['test-rmse-mean'].min()"
   ]
  },
  {
   "cell_type": "markdown",
   "metadata": {},
   "source": [
    "3. Apply the model to predict on the test data and evaluate the model"
   ]
  },
  {
   "cell_type": "code",
   "execution_count": 84,
   "metadata": {},
   "outputs": [],
   "source": [
    "pred = model.predict(dtest)"
   ]
  },
  {
   "cell_type": "code",
   "execution_count": 189,
   "metadata": {},
   "outputs": [
    {
     "name": "stdout",
     "output_type": "stream",
     "text": [
      "RMSE of this model: 1.155 \n",
      "MAE of this model: 0.864 \n",
      "Error rate of this model: 10.0 %\n"
     ]
    }
   ],
   "source": [
    "rmse = np.sqrt(MSE(y_test, pred)) \n",
    "mae = mean_absolute_error(y_test, pred)\n",
    "error = pred - y_test\n",
    "error = abs(error)\n",
    "error_rate = np.mean(error)/np.mean(y_test)\n",
    "print(\"RMSE of this model:\", round(rmse,3), \"\\nMAE of this model:\", round(mae,3), \"\\nError rate of this model:\", round(error_rate, 2)*100, \"%\")"
   ]
  },
  {
   "cell_type": "markdown",
   "metadata": {},
   "source": [
    "<b>The model has a RMSE of 1.155, MAE of 0.86 and an error rate of 10.2%"
   ]
  },
  {
   "cell_type": "markdown",
   "metadata": {},
   "source": [
    "Sample predictions"
   ]
  },
  {
   "cell_type": "code",
   "execution_count": 87,
   "metadata": {},
   "outputs": [
    {
     "data": {
      "text/html": [
       "<div>\n",
       "<style scoped>\n",
       "    .dataframe tbody tr th:only-of-type {\n",
       "        vertical-align: middle;\n",
       "    }\n",
       "\n",
       "    .dataframe tbody tr th {\n",
       "        vertical-align: top;\n",
       "    }\n",
       "\n",
       "    .dataframe thead th {\n",
       "        text-align: right;\n",
       "    }\n",
       "</style>\n",
       "<table border=\"1\" class=\"dataframe\">\n",
       "  <thead>\n",
       "    <tr style=\"text-align: right;\">\n",
       "      <th></th>\n",
       "      <th>Reviewer_Score</th>\n",
       "      <th>Predicted_Score</th>\n",
       "    </tr>\n",
       "  </thead>\n",
       "  <tbody>\n",
       "    <tr>\n",
       "      <th>470415</th>\n",
       "      <td>8.3</td>\n",
       "      <td>9.219895</td>\n",
       "    </tr>\n",
       "    <tr>\n",
       "      <th>506606</th>\n",
       "      <td>9.6</td>\n",
       "      <td>9.426361</td>\n",
       "    </tr>\n",
       "    <tr>\n",
       "      <th>32057</th>\n",
       "      <td>10.0</td>\n",
       "      <td>9.139439</td>\n",
       "    </tr>\n",
       "    <tr>\n",
       "      <th>447590</th>\n",
       "      <td>10.0</td>\n",
       "      <td>9.695793</td>\n",
       "    </tr>\n",
       "    <tr>\n",
       "      <th>26456</th>\n",
       "      <td>10.0</td>\n",
       "      <td>8.581619</td>\n",
       "    </tr>\n",
       "    <tr>\n",
       "      <th>210000</th>\n",
       "      <td>8.8</td>\n",
       "      <td>9.315465</td>\n",
       "    </tr>\n",
       "    <tr>\n",
       "      <th>307360</th>\n",
       "      <td>8.8</td>\n",
       "      <td>8.968274</td>\n",
       "    </tr>\n",
       "    <tr>\n",
       "      <th>410833</th>\n",
       "      <td>9.2</td>\n",
       "      <td>9.577826</td>\n",
       "    </tr>\n",
       "    <tr>\n",
       "      <th>12974</th>\n",
       "      <td>9.2</td>\n",
       "      <td>8.534766</td>\n",
       "    </tr>\n",
       "    <tr>\n",
       "      <th>223462</th>\n",
       "      <td>7.1</td>\n",
       "      <td>8.190145</td>\n",
       "    </tr>\n",
       "  </tbody>\n",
       "</table>\n",
       "</div>"
      ],
      "text/plain": [
       "        Reviewer_Score  Predicted_Score\n",
       "470415             8.3         9.219895\n",
       "506606             9.6         9.426361\n",
       "32057             10.0         9.139439\n",
       "447590            10.0         9.695793\n",
       "26456             10.0         8.581619\n",
       "210000             8.8         9.315465\n",
       "307360             8.8         8.968274\n",
       "410833             9.2         9.577826\n",
       "12974              9.2         8.534766\n",
       "223462             7.1         8.190145"
      ]
     },
     "execution_count": 87,
     "metadata": {},
     "output_type": "execute_result"
    }
   ],
   "source": [
    "y_df = pd.DataFrame(y_test)\n",
    "y_df[\"Predicted_Score\"] = pred\n",
    "y_df.head(10)"
   ]
  },
  {
   "cell_type": "code",
   "execution_count": 88,
   "metadata": {},
   "outputs": [
    {
     "data": {
      "text/plain": [
       "Text(0, 0.5, 'Frequency')"
      ]
     },
     "execution_count": 88,
     "metadata": {},
     "output_type": "execute_result"
    },
    {
     "data": {
      "image/png": "[encoded data removed]",
      "text/plain": [
       "<Figure size 432x288 with 1 Axes>"
      ]
     },
     "metadata": {
      "needs_background": "light"
     },
     "output_type": "display_data"
    }
   ],
   "source": [
    "# get residuals\n",
    "res = y_df[\"Reviewer_Score\"] - y_df[\"Predicted_Score\"]\n",
    "res.hist(bins = 20)\n",
    "plt.title('Histogram of prediction errors')\n",
    "plt.xlabel('Reviewer Score Prediction Error')\n",
    "plt.ylabel('Frequency')"
   ]
  }
 ],
 "metadata": {
  "kernelspec": {
   "display_name": "Python 3",
   "language": "python",
   "name": "python3"
  },
  "language_info": {
   "codemirror_mode": {
    "name": "ipython",
    "version": 3
   },
   "file_extension": ".py",
   "mimetype": "text/x-python",
   "name": "python",
   "nbconvert_exporter": "python",
   "pygments_lexer": "ipython3",
   "version": "3.8.3"
  }
 },
 "nbformat": 4,
 "nbformat_minor": 4
}
